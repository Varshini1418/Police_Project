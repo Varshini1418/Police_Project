{
  "nbformat": 4,
  "nbformat_minor": 0,
  "metadata": {
    "colab": {
      "provenance": [],
      "authorship_tag": "ABX9TyMQZvMRKzIZggqBbA6P11ut",
      "include_colab_link": true
    },
    "kernelspec": {
      "name": "python3",
      "display_name": "Python 3"
    },
    "language_info": {
      "name": "python"
    }
  },
  "cells": [
    {
      "cell_type": "markdown",
      "metadata": {
        "id": "view-in-github",
        "colab_type": "text"
      },
      "source": [
        "<a href=\"https://colab.research.google.com/github/Varshini1418/Police_Project/blob/main/Project_1.ipynb\" target=\"_parent\"><img src=\"https://colab.research.google.com/assets/colab-badge.svg\" alt=\"Open In Colab\"/></a>"
      ]
    },
    {
      "cell_type": "code",
      "execution_count": 166,
      "metadata": {
        "colab": {
          "base_uri": "https://localhost:8080/",
          "height": 403
        },
        "id": "FyI_DJ17YITw",
        "outputId": "19fc1a37-be48-45c9-bb51-43d9525b5c27"
      },
      "outputs": [
        {
          "output_type": "display_data",
          "data": {
            "text/plain": [
              "<IPython.core.display.HTML object>"
            ],
            "text/html": [
              "\n",
              "     <input type=\"file\" id=\"files-72562baf-c3a1-455e-b656-6181fbde8657\" name=\"files[]\" multiple disabled\n",
              "        style=\"border:none\" />\n",
              "     <output id=\"result-72562baf-c3a1-455e-b656-6181fbde8657\">\n",
              "      Upload widget is only available when the cell has been executed in the\n",
              "      current browser session. Please rerun this cell to enable.\n",
              "      </output>\n",
              "      <script>// Copyright 2017 Google LLC\n",
              "//\n",
              "// Licensed under the Apache License, Version 2.0 (the \"License\");\n",
              "// you may not use this file except in compliance with the License.\n",
              "// You may obtain a copy of the License at\n",
              "//\n",
              "//      http://www.apache.org/licenses/LICENSE-2.0\n",
              "//\n",
              "// Unless required by applicable law or agreed to in writing, software\n",
              "// distributed under the License is distributed on an \"AS IS\" BASIS,\n",
              "// WITHOUT WARRANTIES OR CONDITIONS OF ANY KIND, either express or implied.\n",
              "// See the License for the specific language governing permissions and\n",
              "// limitations under the License.\n",
              "\n",
              "/**\n",
              " * @fileoverview Helpers for google.colab Python module.\n",
              " */\n",
              "(function(scope) {\n",
              "function span(text, styleAttributes = {}) {\n",
              "  const element = document.createElement('span');\n",
              "  element.textContent = text;\n",
              "  for (const key of Object.keys(styleAttributes)) {\n",
              "    element.style[key] = styleAttributes[key];\n",
              "  }\n",
              "  return element;\n",
              "}\n",
              "\n",
              "// Max number of bytes which will be uploaded at a time.\n",
              "const MAX_PAYLOAD_SIZE = 100 * 1024;\n",
              "\n",
              "function _uploadFiles(inputId, outputId) {\n",
              "  const steps = uploadFilesStep(inputId, outputId);\n",
              "  const outputElement = document.getElementById(outputId);\n",
              "  // Cache steps on the outputElement to make it available for the next call\n",
              "  // to uploadFilesContinue from Python.\n",
              "  outputElement.steps = steps;\n",
              "\n",
              "  return _uploadFilesContinue(outputId);\n",
              "}\n",
              "\n",
              "// This is roughly an async generator (not supported in the browser yet),\n",
              "// where there are multiple asynchronous steps and the Python side is going\n",
              "// to poll for completion of each step.\n",
              "// This uses a Promise to block the python side on completion of each step,\n",
              "// then passes the result of the previous step as the input to the next step.\n",
              "function _uploadFilesContinue(outputId) {\n",
              "  const outputElement = document.getElementById(outputId);\n",
              "  const steps = outputElement.steps;\n",
              "\n",
              "  const next = steps.next(outputElement.lastPromiseValue);\n",
              "  return Promise.resolve(next.value.promise).then((value) => {\n",
              "    // Cache the last promise value to make it available to the next\n",
              "    // step of the generator.\n",
              "    outputElement.lastPromiseValue = value;\n",
              "    return next.value.response;\n",
              "  });\n",
              "}\n",
              "\n",
              "/**\n",
              " * Generator function which is called between each async step of the upload\n",
              " * process.\n",
              " * @param {string} inputId Element ID of the input file picker element.\n",
              " * @param {string} outputId Element ID of the output display.\n",
              " * @return {!Iterable<!Object>} Iterable of next steps.\n",
              " */\n",
              "function* uploadFilesStep(inputId, outputId) {\n",
              "  const inputElement = document.getElementById(inputId);\n",
              "  inputElement.disabled = false;\n",
              "\n",
              "  const outputElement = document.getElementById(outputId);\n",
              "  outputElement.innerHTML = '';\n",
              "\n",
              "  const pickedPromise = new Promise((resolve) => {\n",
              "    inputElement.addEventListener('change', (e) => {\n",
              "      resolve(e.target.files);\n",
              "    });\n",
              "  });\n",
              "\n",
              "  const cancel = document.createElement('button');\n",
              "  inputElement.parentElement.appendChild(cancel);\n",
              "  cancel.textContent = 'Cancel upload';\n",
              "  const cancelPromise = new Promise((resolve) => {\n",
              "    cancel.onclick = () => {\n",
              "      resolve(null);\n",
              "    };\n",
              "  });\n",
              "\n",
              "  // Wait for the user to pick the files.\n",
              "  const files = yield {\n",
              "    promise: Promise.race([pickedPromise, cancelPromise]),\n",
              "    response: {\n",
              "      action: 'starting',\n",
              "    }\n",
              "  };\n",
              "\n",
              "  cancel.remove();\n",
              "\n",
              "  // Disable the input element since further picks are not allowed.\n",
              "  inputElement.disabled = true;\n",
              "\n",
              "  if (!files) {\n",
              "    return {\n",
              "      response: {\n",
              "        action: 'complete',\n",
              "      }\n",
              "    };\n",
              "  }\n",
              "\n",
              "  for (const file of files) {\n",
              "    const li = document.createElement('li');\n",
              "    li.append(span(file.name, {fontWeight: 'bold'}));\n",
              "    li.append(span(\n",
              "        `(${file.type || 'n/a'}) - ${file.size} bytes, ` +\n",
              "        `last modified: ${\n",
              "            file.lastModifiedDate ? file.lastModifiedDate.toLocaleDateString() :\n",
              "                                    'n/a'} - `));\n",
              "    const percent = span('0% done');\n",
              "    li.appendChild(percent);\n",
              "\n",
              "    outputElement.appendChild(li);\n",
              "\n",
              "    const fileDataPromise = new Promise((resolve) => {\n",
              "      const reader = new FileReader();\n",
              "      reader.onload = (e) => {\n",
              "        resolve(e.target.result);\n",
              "      };\n",
              "      reader.readAsArrayBuffer(file);\n",
              "    });\n",
              "    // Wait for the data to be ready.\n",
              "    let fileData = yield {\n",
              "      promise: fileDataPromise,\n",
              "      response: {\n",
              "        action: 'continue',\n",
              "      }\n",
              "    };\n",
              "\n",
              "    // Use a chunked sending to avoid message size limits. See b/62115660.\n",
              "    let position = 0;\n",
              "    do {\n",
              "      const length = Math.min(fileData.byteLength - position, MAX_PAYLOAD_SIZE);\n",
              "      const chunk = new Uint8Array(fileData, position, length);\n",
              "      position += length;\n",
              "\n",
              "      const base64 = btoa(String.fromCharCode.apply(null, chunk));\n",
              "      yield {\n",
              "        response: {\n",
              "          action: 'append',\n",
              "          file: file.name,\n",
              "          data: base64,\n",
              "        },\n",
              "      };\n",
              "\n",
              "      let percentDone = fileData.byteLength === 0 ?\n",
              "          100 :\n",
              "          Math.round((position / fileData.byteLength) * 100);\n",
              "      percent.textContent = `${percentDone}% done`;\n",
              "\n",
              "    } while (position < fileData.byteLength);\n",
              "  }\n",
              "\n",
              "  // All done.\n",
              "  yield {\n",
              "    response: {\n",
              "      action: 'complete',\n",
              "    }\n",
              "  };\n",
              "}\n",
              "\n",
              "scope.google = scope.google || {};\n",
              "scope.google.colab = scope.google.colab || {};\n",
              "scope.google.colab._files = {\n",
              "  _uploadFiles,\n",
              "  _uploadFilesContinue,\n",
              "};\n",
              "})(self);\n",
              "</script> "
            ]
          },
          "metadata": {}
        },
        {
          "output_type": "stream",
          "name": "stdout",
          "text": [
            "Saving traffic_stops - traffic_stops_with_vehicle_number.csv to traffic_stops - traffic_stops_with_vehicle_number.csv\n"
          ]
        },
        {
          "output_type": "stream",
          "name": "stderr",
          "text": [
            "/tmp/ipython-input-166-258677940.py:6: DtypeWarning: Columns (10) have mixed types. Specify dtype option on import or set low_memory=False.\n",
            "  df = pd.read_csv(\"traffic_stops - traffic_stops_with_vehicle_number.csv\")\n"
          ]
        },
        {
          "output_type": "execute_result",
          "data": {
            "text/plain": [
              "    stop_date stop_time country_name driver_gender  driver_age_raw  \\\n",
              "0  2020-01-01   0:00:00       Canada             M              59   \n",
              "1  2020-01-01   0:01:00        India             M              35   \n",
              "2  2020-01-01   0:02:00          USA             M              26   \n",
              "3  2020-01-01   0:03:00       Canada             M              26   \n",
              "4  2020-01-01   0:04:00       Canada             M              62   \n",
              "\n",
              "   driver_age driver_race     violation_raw violation  search_conducted  \\\n",
              "0          19       Asian     Drunk Driving  Speeding              True   \n",
              "1          58       Other             Other     Other             False   \n",
              "2          76       Black  Signal Violation  Speeding             False   \n",
              "3          76       Black          Speeding       DUI              True   \n",
              "4          75       Other          Speeding     Other             False   \n",
              "\n",
              "      search_type stop_outcome  is_arrested stop_duration  drugs_related_stop  \\\n",
              "0  Vehicle Search       Ticket         True     16-30 Min                True   \n",
              "1  Vehicle Search       Arrest         True     16-30 Min                True   \n",
              "2           Frisk       Ticket         True     16-30 Min                True   \n",
              "3           Frisk      Warning        False      0-15 Min                True   \n",
              "4  Vehicle Search       Arrest         True     16-30 Min               False   \n",
              "\n",
              "  vehicle_number  \n",
              "0     UP76DY3473  \n",
              "1     RJ83PZ4441  \n",
              "2     RJ32OM7264  \n",
              "3     RJ76TI3807  \n",
              "4     WB63BB8305  "
            ],
            "text/html": [
              "\n",
              "  <div id=\"df-92974c51-3325-4a79-9edf-917e541e63fa\" class=\"colab-df-container\">\n",
              "    <div>\n",
              "<style scoped>\n",
              "    .dataframe tbody tr th:only-of-type {\n",
              "        vertical-align: middle;\n",
              "    }\n",
              "\n",
              "    .dataframe tbody tr th {\n",
              "        vertical-align: top;\n",
              "    }\n",
              "\n",
              "    .dataframe thead th {\n",
              "        text-align: right;\n",
              "    }\n",
              "</style>\n",
              "<table border=\"1\" class=\"dataframe\">\n",
              "  <thead>\n",
              "    <tr style=\"text-align: right;\">\n",
              "      <th></th>\n",
              "      <th>stop_date</th>\n",
              "      <th>stop_time</th>\n",
              "      <th>country_name</th>\n",
              "      <th>driver_gender</th>\n",
              "      <th>driver_age_raw</th>\n",
              "      <th>driver_age</th>\n",
              "      <th>driver_race</th>\n",
              "      <th>violation_raw</th>\n",
              "      <th>violation</th>\n",
              "      <th>search_conducted</th>\n",
              "      <th>search_type</th>\n",
              "      <th>stop_outcome</th>\n",
              "      <th>is_arrested</th>\n",
              "      <th>stop_duration</th>\n",
              "      <th>drugs_related_stop</th>\n",
              "      <th>vehicle_number</th>\n",
              "    </tr>\n",
              "  </thead>\n",
              "  <tbody>\n",
              "    <tr>\n",
              "      <th>0</th>\n",
              "      <td>2020-01-01</td>\n",
              "      <td>0:00:00</td>\n",
              "      <td>Canada</td>\n",
              "      <td>M</td>\n",
              "      <td>59</td>\n",
              "      <td>19</td>\n",
              "      <td>Asian</td>\n",
              "      <td>Drunk Driving</td>\n",
              "      <td>Speeding</td>\n",
              "      <td>True</td>\n",
              "      <td>Vehicle Search</td>\n",
              "      <td>Ticket</td>\n",
              "      <td>True</td>\n",
              "      <td>16-30 Min</td>\n",
              "      <td>True</td>\n",
              "      <td>UP76DY3473</td>\n",
              "    </tr>\n",
              "    <tr>\n",
              "      <th>1</th>\n",
              "      <td>2020-01-01</td>\n",
              "      <td>0:01:00</td>\n",
              "      <td>India</td>\n",
              "      <td>M</td>\n",
              "      <td>35</td>\n",
              "      <td>58</td>\n",
              "      <td>Other</td>\n",
              "      <td>Other</td>\n",
              "      <td>Other</td>\n",
              "      <td>False</td>\n",
              "      <td>Vehicle Search</td>\n",
              "      <td>Arrest</td>\n",
              "      <td>True</td>\n",
              "      <td>16-30 Min</td>\n",
              "      <td>True</td>\n",
              "      <td>RJ83PZ4441</td>\n",
              "    </tr>\n",
              "    <tr>\n",
              "      <th>2</th>\n",
              "      <td>2020-01-01</td>\n",
              "      <td>0:02:00</td>\n",
              "      <td>USA</td>\n",
              "      <td>M</td>\n",
              "      <td>26</td>\n",
              "      <td>76</td>\n",
              "      <td>Black</td>\n",
              "      <td>Signal Violation</td>\n",
              "      <td>Speeding</td>\n",
              "      <td>False</td>\n",
              "      <td>Frisk</td>\n",
              "      <td>Ticket</td>\n",
              "      <td>True</td>\n",
              "      <td>16-30 Min</td>\n",
              "      <td>True</td>\n",
              "      <td>RJ32OM7264</td>\n",
              "    </tr>\n",
              "    <tr>\n",
              "      <th>3</th>\n",
              "      <td>2020-01-01</td>\n",
              "      <td>0:03:00</td>\n",
              "      <td>Canada</td>\n",
              "      <td>M</td>\n",
              "      <td>26</td>\n",
              "      <td>76</td>\n",
              "      <td>Black</td>\n",
              "      <td>Speeding</td>\n",
              "      <td>DUI</td>\n",
              "      <td>True</td>\n",
              "      <td>Frisk</td>\n",
              "      <td>Warning</td>\n",
              "      <td>False</td>\n",
              "      <td>0-15 Min</td>\n",
              "      <td>True</td>\n",
              "      <td>RJ76TI3807</td>\n",
              "    </tr>\n",
              "    <tr>\n",
              "      <th>4</th>\n",
              "      <td>2020-01-01</td>\n",
              "      <td>0:04:00</td>\n",
              "      <td>Canada</td>\n",
              "      <td>M</td>\n",
              "      <td>62</td>\n",
              "      <td>75</td>\n",
              "      <td>Other</td>\n",
              "      <td>Speeding</td>\n",
              "      <td>Other</td>\n",
              "      <td>False</td>\n",
              "      <td>Vehicle Search</td>\n",
              "      <td>Arrest</td>\n",
              "      <td>True</td>\n",
              "      <td>16-30 Min</td>\n",
              "      <td>False</td>\n",
              "      <td>WB63BB8305</td>\n",
              "    </tr>\n",
              "  </tbody>\n",
              "</table>\n",
              "</div>\n",
              "    <div class=\"colab-df-buttons\">\n",
              "\n",
              "  <div class=\"colab-df-container\">\n",
              "    <button class=\"colab-df-convert\" onclick=\"convertToInteractive('df-92974c51-3325-4a79-9edf-917e541e63fa')\"\n",
              "            title=\"Convert this dataframe to an interactive table.\"\n",
              "            style=\"display:none;\">\n",
              "\n",
              "  <svg xmlns=\"http://www.w3.org/2000/svg\" height=\"24px\" viewBox=\"0 -960 960 960\">\n",
              "    <path d=\"M120-120v-720h720v720H120Zm60-500h600v-160H180v160Zm220 220h160v-160H400v160Zm0 220h160v-160H400v160ZM180-400h160v-160H180v160Zm440 0h160v-160H620v160ZM180-180h160v-160H180v160Zm440 0h160v-160H620v160Z\"/>\n",
              "  </svg>\n",
              "    </button>\n",
              "\n",
              "  <style>\n",
              "    .colab-df-container {\n",
              "      display:flex;\n",
              "      gap: 12px;\n",
              "    }\n",
              "\n",
              "    .colab-df-convert {\n",
              "      background-color: #E8F0FE;\n",
              "      border: none;\n",
              "      border-radius: 50%;\n",
              "      cursor: pointer;\n",
              "      display: none;\n",
              "      fill: #1967D2;\n",
              "      height: 32px;\n",
              "      padding: 0 0 0 0;\n",
              "      width: 32px;\n",
              "    }\n",
              "\n",
              "    .colab-df-convert:hover {\n",
              "      background-color: #E2EBFA;\n",
              "      box-shadow: 0px 1px 2px rgba(60, 64, 67, 0.3), 0px 1px 3px 1px rgba(60, 64, 67, 0.15);\n",
              "      fill: #174EA6;\n",
              "    }\n",
              "\n",
              "    .colab-df-buttons div {\n",
              "      margin-bottom: 4px;\n",
              "    }\n",
              "\n",
              "    [theme=dark] .colab-df-convert {\n",
              "      background-color: #3B4455;\n",
              "      fill: #D2E3FC;\n",
              "    }\n",
              "\n",
              "    [theme=dark] .colab-df-convert:hover {\n",
              "      background-color: #434B5C;\n",
              "      box-shadow: 0px 1px 3px 1px rgba(0, 0, 0, 0.15);\n",
              "      filter: drop-shadow(0px 1px 2px rgba(0, 0, 0, 0.3));\n",
              "      fill: #FFFFFF;\n",
              "    }\n",
              "  </style>\n",
              "\n",
              "    <script>\n",
              "      const buttonEl =\n",
              "        document.querySelector('#df-92974c51-3325-4a79-9edf-917e541e63fa button.colab-df-convert');\n",
              "      buttonEl.style.display =\n",
              "        google.colab.kernel.accessAllowed ? 'block' : 'none';\n",
              "\n",
              "      async function convertToInteractive(key) {\n",
              "        const element = document.querySelector('#df-92974c51-3325-4a79-9edf-917e541e63fa');\n",
              "        const dataTable =\n",
              "          await google.colab.kernel.invokeFunction('convertToInteractive',\n",
              "                                                    [key], {});\n",
              "        if (!dataTable) return;\n",
              "\n",
              "        const docLinkHtml = 'Like what you see? Visit the ' +\n",
              "          '<a target=\"_blank\" href=https://colab.research.google.com/notebooks/data_table.ipynb>data table notebook</a>'\n",
              "          + ' to learn more about interactive tables.';\n",
              "        element.innerHTML = '';\n",
              "        dataTable['output_type'] = 'display_data';\n",
              "        await google.colab.output.renderOutput(dataTable, element);\n",
              "        const docLink = document.createElement('div');\n",
              "        docLink.innerHTML = docLinkHtml;\n",
              "        element.appendChild(docLink);\n",
              "      }\n",
              "    </script>\n",
              "  </div>\n",
              "\n",
              "\n",
              "    <div id=\"df-a9ecbcd6-a52e-4616-8700-44e4ea469eca\">\n",
              "      <button class=\"colab-df-quickchart\" onclick=\"quickchart('df-a9ecbcd6-a52e-4616-8700-44e4ea469eca')\"\n",
              "                title=\"Suggest charts\"\n",
              "                style=\"display:none;\">\n",
              "\n",
              "<svg xmlns=\"http://www.w3.org/2000/svg\" height=\"24px\"viewBox=\"0 0 24 24\"\n",
              "     width=\"24px\">\n",
              "    <g>\n",
              "        <path d=\"M19 3H5c-1.1 0-2 .9-2 2v14c0 1.1.9 2 2 2h14c1.1 0 2-.9 2-2V5c0-1.1-.9-2-2-2zM9 17H7v-7h2v7zm4 0h-2V7h2v10zm4 0h-2v-4h2v4z\"/>\n",
              "    </g>\n",
              "</svg>\n",
              "      </button>\n",
              "\n",
              "<style>\n",
              "  .colab-df-quickchart {\n",
              "      --bg-color: #E8F0FE;\n",
              "      --fill-color: #1967D2;\n",
              "      --hover-bg-color: #E2EBFA;\n",
              "      --hover-fill-color: #174EA6;\n",
              "      --disabled-fill-color: #AAA;\n",
              "      --disabled-bg-color: #DDD;\n",
              "  }\n",
              "\n",
              "  [theme=dark] .colab-df-quickchart {\n",
              "      --bg-color: #3B4455;\n",
              "      --fill-color: #D2E3FC;\n",
              "      --hover-bg-color: #434B5C;\n",
              "      --hover-fill-color: #FFFFFF;\n",
              "      --disabled-bg-color: #3B4455;\n",
              "      --disabled-fill-color: #666;\n",
              "  }\n",
              "\n",
              "  .colab-df-quickchart {\n",
              "    background-color: var(--bg-color);\n",
              "    border: none;\n",
              "    border-radius: 50%;\n",
              "    cursor: pointer;\n",
              "    display: none;\n",
              "    fill: var(--fill-color);\n",
              "    height: 32px;\n",
              "    padding: 0;\n",
              "    width: 32px;\n",
              "  }\n",
              "\n",
              "  .colab-df-quickchart:hover {\n",
              "    background-color: var(--hover-bg-color);\n",
              "    box-shadow: 0 1px 2px rgba(60, 64, 67, 0.3), 0 1px 3px 1px rgba(60, 64, 67, 0.15);\n",
              "    fill: var(--button-hover-fill-color);\n",
              "  }\n",
              "\n",
              "  .colab-df-quickchart-complete:disabled,\n",
              "  .colab-df-quickchart-complete:disabled:hover {\n",
              "    background-color: var(--disabled-bg-color);\n",
              "    fill: var(--disabled-fill-color);\n",
              "    box-shadow: none;\n",
              "  }\n",
              "\n",
              "  .colab-df-spinner {\n",
              "    border: 2px solid var(--fill-color);\n",
              "    border-color: transparent;\n",
              "    border-bottom-color: var(--fill-color);\n",
              "    animation:\n",
              "      spin 1s steps(1) infinite;\n",
              "  }\n",
              "\n",
              "  @keyframes spin {\n",
              "    0% {\n",
              "      border-color: transparent;\n",
              "      border-bottom-color: var(--fill-color);\n",
              "      border-left-color: var(--fill-color);\n",
              "    }\n",
              "    20% {\n",
              "      border-color: transparent;\n",
              "      border-left-color: var(--fill-color);\n",
              "      border-top-color: var(--fill-color);\n",
              "    }\n",
              "    30% {\n",
              "      border-color: transparent;\n",
              "      border-left-color: var(--fill-color);\n",
              "      border-top-color: var(--fill-color);\n",
              "      border-right-color: var(--fill-color);\n",
              "    }\n",
              "    40% {\n",
              "      border-color: transparent;\n",
              "      border-right-color: var(--fill-color);\n",
              "      border-top-color: var(--fill-color);\n",
              "    }\n",
              "    60% {\n",
              "      border-color: transparent;\n",
              "      border-right-color: var(--fill-color);\n",
              "    }\n",
              "    80% {\n",
              "      border-color: transparent;\n",
              "      border-right-color: var(--fill-color);\n",
              "      border-bottom-color: var(--fill-color);\n",
              "    }\n",
              "    90% {\n",
              "      border-color: transparent;\n",
              "      border-bottom-color: var(--fill-color);\n",
              "    }\n",
              "  }\n",
              "</style>\n",
              "\n",
              "      <script>\n",
              "        async function quickchart(key) {\n",
              "          const quickchartButtonEl =\n",
              "            document.querySelector('#' + key + ' button');\n",
              "          quickchartButtonEl.disabled = true;  // To prevent multiple clicks.\n",
              "          quickchartButtonEl.classList.add('colab-df-spinner');\n",
              "          try {\n",
              "            const charts = await google.colab.kernel.invokeFunction(\n",
              "                'suggestCharts', [key], {});\n",
              "          } catch (error) {\n",
              "            console.error('Error during call to suggestCharts:', error);\n",
              "          }\n",
              "          quickchartButtonEl.classList.remove('colab-df-spinner');\n",
              "          quickchartButtonEl.classList.add('colab-df-quickchart-complete');\n",
              "        }\n",
              "        (() => {\n",
              "          let quickchartButtonEl =\n",
              "            document.querySelector('#df-a9ecbcd6-a52e-4616-8700-44e4ea469eca button');\n",
              "          quickchartButtonEl.style.display =\n",
              "            google.colab.kernel.accessAllowed ? 'block' : 'none';\n",
              "        })();\n",
              "      </script>\n",
              "    </div>\n",
              "\n",
              "    </div>\n",
              "  </div>\n"
            ],
            "application/vnd.google.colaboratory.intrinsic+json": {
              "type": "dataframe",
              "variable_name": "df",
              "summary": "{\n  \"name\": \"df\",\n  \"rows\": 65538,\n  \"fields\": [\n    {\n      \"column\": \"stop_date\",\n      \"properties\": {\n        \"dtype\": \"object\",\n        \"num_unique_values\": 46,\n        \"samples\": [\n          \"2020-02-09\",\n          \"2020-01-26\",\n          \"2020-01-27\"\n        ],\n        \"semantic_type\": \"\",\n        \"description\": \"\"\n      }\n    },\n    {\n      \"column\": \"stop_time\",\n      \"properties\": {\n        \"dtype\": \"object\",\n        \"num_unique_values\": 1440,\n        \"samples\": [\n          \"2:48:00\",\n          \"10:05:00\",\n          \"9:08:00\"\n        ],\n        \"semantic_type\": \"\",\n        \"description\": \"\"\n      }\n    },\n    {\n      \"column\": \"country_name\",\n      \"properties\": {\n        \"dtype\": \"category\",\n        \"num_unique_values\": 3,\n        \"samples\": [\n          \"Canada\",\n          \"India\",\n          \"USA\"\n        ],\n        \"semantic_type\": \"\",\n        \"description\": \"\"\n      }\n    },\n    {\n      \"column\": \"driver_gender\",\n      \"properties\": {\n        \"dtype\": \"category\",\n        \"num_unique_values\": 2,\n        \"samples\": [\n          \"F\",\n          \"M\"\n        ],\n        \"semantic_type\": \"\",\n        \"description\": \"\"\n      }\n    },\n    {\n      \"column\": \"driver_age_raw\",\n      \"properties\": {\n        \"dtype\": \"number\",\n        \"std\": 18,\n        \"min\": 18,\n        \"max\": 80,\n        \"num_unique_values\": 63,\n        \"samples\": [\n          78,\n          45\n        ],\n        \"semantic_type\": \"\",\n        \"description\": \"\"\n      }\n    },\n    {\n      \"column\": \"driver_age\",\n      \"properties\": {\n        \"dtype\": \"number\",\n        \"std\": 18,\n        \"min\": 18,\n        \"max\": 80,\n        \"num_unique_values\": 63,\n        \"samples\": [\n          52,\n          33\n        ],\n        \"semantic_type\": \"\",\n        \"description\": \"\"\n      }\n    },\n    {\n      \"column\": \"driver_race\",\n      \"properties\": {\n        \"dtype\": \"category\",\n        \"num_unique_values\": 5,\n        \"samples\": [\n          \"Other\",\n          \"Hispanic\"\n        ],\n        \"semantic_type\": \"\",\n        \"description\": \"\"\n      }\n    },\n    {\n      \"column\": \"violation_raw\",\n      \"properties\": {\n        \"dtype\": \"category\",\n        \"num_unique_values\": 5,\n        \"samples\": [\n          \"Other\",\n          \"Seatbelt\"\n        ],\n        \"semantic_type\": \"\",\n        \"description\": \"\"\n      }\n    },\n    {\n      \"column\": \"violation\",\n      \"properties\": {\n        \"dtype\": \"category\",\n        \"num_unique_values\": 5,\n        \"samples\": [\n          \"Other\",\n          \"Signal\"\n        ],\n        \"semantic_type\": \"\",\n        \"description\": \"\"\n      }\n    },\n    {\n      \"column\": \"search_conducted\",\n      \"properties\": {\n        \"dtype\": \"boolean\",\n        \"num_unique_values\": 2,\n        \"samples\": [\n          false,\n          true\n        ],\n        \"semantic_type\": \"\",\n        \"description\": \"\"\n      }\n    },\n    {\n      \"column\": \"search_type\",\n      \"properties\": {\n        \"dtype\": \"category\",\n        \"num_unique_values\": 2,\n        \"samples\": [\n          \"Frisk\",\n          \"Vehicle Search\"\n        ],\n        \"semantic_type\": \"\",\n        \"description\": \"\"\n      }\n    },\n    {\n      \"column\": \"stop_outcome\",\n      \"properties\": {\n        \"dtype\": \"category\",\n        \"num_unique_values\": 3,\n        \"samples\": [\n          \"Ticket\",\n          \"Arrest\"\n        ],\n        \"semantic_type\": \"\",\n        \"description\": \"\"\n      }\n    },\n    {\n      \"column\": \"is_arrested\",\n      \"properties\": {\n        \"dtype\": \"boolean\",\n        \"num_unique_values\": 2,\n        \"samples\": [\n          false,\n          true\n        ],\n        \"semantic_type\": \"\",\n        \"description\": \"\"\n      }\n    },\n    {\n      \"column\": \"stop_duration\",\n      \"properties\": {\n        \"dtype\": \"category\",\n        \"num_unique_values\": 3,\n        \"samples\": [\n          \"16-30 Min\",\n          \"0-15 Min\"\n        ],\n        \"semantic_type\": \"\",\n        \"description\": \"\"\n      }\n    },\n    {\n      \"column\": \"drugs_related_stop\",\n      \"properties\": {\n        \"dtype\": \"boolean\",\n        \"num_unique_values\": 2,\n        \"samples\": [\n          false,\n          true\n        ],\n        \"semantic_type\": \"\",\n        \"description\": \"\"\n      }\n    },\n    {\n      \"column\": \"vehicle_number\",\n      \"properties\": {\n        \"dtype\": \"string\",\n        \"num_unique_values\": 65538,\n        \"samples\": [\n          \"MH36TO4531\",\n          \"DL37QX8279\"\n        ],\n        \"semantic_type\": \"\",\n        \"description\": \"\"\n      }\n    }\n  ]\n}"
            }
          },
          "metadata": {},
          "execution_count": 166
        }
      ],
      "source": [
        "import pandas as pd\n",
        "from google.colab import files\n",
        "uploaded = files.upload()\n",
        "\n",
        "import pandas as pd\n",
        "df = pd.read_csv(\"traffic_stops - traffic_stops_with_vehicle_number.csv\")\n",
        "df.head()"
      ]
    },
    {
      "cell_type": "code",
      "source": [
        "# Check for missing values\n",
        "print(df.isnull().sum())"
      ],
      "metadata": {
        "colab": {
          "base_uri": "https://localhost:8080/"
        },
        "id": "Egssu5odYYdQ",
        "outputId": "f0d42f92-521c-4148-8ebe-a92ef170799a"
      },
      "execution_count": 167,
      "outputs": [
        {
          "output_type": "stream",
          "name": "stdout",
          "text": [
            "stop_date                 0\n",
            "stop_time                 0\n",
            "country_name              0\n",
            "driver_gender             0\n",
            "driver_age_raw            0\n",
            "driver_age                0\n",
            "driver_race               0\n",
            "violation_raw             0\n",
            "violation                 0\n",
            "search_conducted          0\n",
            "search_type           21720\n",
            "stop_outcome              0\n",
            "is_arrested               0\n",
            "stop_duration             0\n",
            "drugs_related_stop        0\n",
            "vehicle_number            0\n",
            "dtype: int64\n"
          ]
        }
      ]
    },
    {
      "cell_type": "code",
      "source": [
        "# Remove columns with all missing values\n",
        "df.dropna(axis=1, how='all', inplace=True)\n",
        "\n",
        "# Fill missing values\n",
        "df['driver_age'] = df['driver_age'].fillna(df['driver_age'].median())\n",
        "df['violation'] = df['violation'].fillna('Unknown')\n",
        "df['search_type'] = df['search_type'].fillna('None')"
      ],
      "metadata": {
        "id": "HCm2BCwNZJrA"
      },
      "execution_count": 168,
      "outputs": []
    },
    {
      "cell_type": "code",
      "source": [
        "df['stop_date'] = pd.to_datetime(df['stop_date'], format='%Y-%m-%d')\n",
        "df['stop_time'] = pd.to_datetime(df['stop_time'], format='%H:%M:%S')"
      ],
      "metadata": {
        "id": "azV0gWjeA3CR"
      },
      "execution_count": 188,
      "outputs": []
    },
    {
      "cell_type": "code",
      "source": [
        "print(df.dtypes)"
      ],
      "metadata": {
        "colab": {
          "base_uri": "https://localhost:8080/"
        },
        "id": "n_3Yp9AaZU-p",
        "outputId": "0aa95a2c-7e65-4a0f-fd64-37f47d896293"
      },
      "execution_count": 189,
      "outputs": [
        {
          "output_type": "stream",
          "name": "stdout",
          "text": [
            "stop_date             datetime64[ns]\n",
            "stop_time             datetime64[ns]\n",
            "country_name                  object\n",
            "driver_gender                 object\n",
            "driver_age_raw                 int64\n",
            "driver_age                     int64\n",
            "driver_race                   object\n",
            "violation_raw                 object\n",
            "violation                     object\n",
            "search_conducted                bool\n",
            "search_type                   object\n",
            "stop_outcome                  object\n",
            "is_arrested                     bool\n",
            "stop_duration                 object\n",
            "drugs_related_stop              bool\n",
            "vehicle_number                object\n",
            "dtype: object\n"
          ]
        }
      ]
    },
    {
      "cell_type": "code",
      "source": [
        "pip install mysql-connector-python"
      ],
      "metadata": {
        "colab": {
          "base_uri": "https://localhost:8080/"
        },
        "id": "MwvtizvnaB8J",
        "outputId": "455286ce-e3cc-4505-b470-90ede8b6a9ce"
      },
      "execution_count": 191,
      "outputs": [
        {
          "output_type": "stream",
          "name": "stdout",
          "text": [
            "Requirement already satisfied: mysql-connector-python in /usr/local/lib/python3.11/dist-packages (9.3.0)\n"
          ]
        }
      ]
    },
    {
      "cell_type": "code",
      "source": [
        "import sqlite3\n",
        "\n",
        "# This will create the database file if it doesn't exist\n",
        "conn = sqlite3.connect('Police_db.db')\n",
        "cursor = conn.cursor()\n",
        "\n",
        "print(\"Database Police_db created successfully!\")\n"
      ],
      "metadata": {
        "colab": {
          "base_uri": "https://localhost:8080/"
        },
        "id": "IREkXU_XcLPA",
        "outputId": "4b947532-9f9a-468a-f288-6a9bab255a11"
      },
      "execution_count": 193,
      "outputs": [
        {
          "output_type": "stream",
          "name": "stdout",
          "text": [
            "Database Police_db created successfully!\n"
          ]
        }
      ]
    },
    {
      "cell_type": "code",
      "source": [
        "cursor.execute(\"\"\"\n",
        "CREATE TABLE IF NOT EXISTS traffic_stops (\n",
        "    id INTEGER PRIMARY KEY AUTOINCREMENT,\n",
        "    stop_date DATE,\n",
        "    stop_time TIME,\n",
        "    country_name TEXT,\n",
        "    driver_gender TEXT,\n",
        "    driver_age INTEGER,\n",
        "    driver_age_raw INTEGER,\n",
        "    driver_race TEXT,\n",
        "    violation_raw TEXT,\n",
        "    violation TEXT,\n",
        "    search_conducted INTEGER,\n",
        "    stop_outcome TEXT,\n",
        "    is_arrested INTEGER,\n",
        "    stop_duration TEXT,\n",
        "    drugs_related_stop INTEGER,\n",
        "    vehicle_number TEXT,\n",
        "    search_type TEXT\n",
        ");\n",
        "\"\"\")\n",
        "conn.commit()\n",
        "print(\"✅ Table 'traffic_stops' created successfully!\")\n"
      ],
      "metadata": {
        "colab": {
          "base_uri": "https://localhost:8080/"
        },
        "id": "4285FcNt4znv",
        "outputId": "da08a0d9-4c1f-4f1b-87d2-9017e26ff72a"
      },
      "execution_count": 194,
      "outputs": [
        {
          "output_type": "stream",
          "name": "stdout",
          "text": [
            "✅ Table 'traffic_stops' created successfully!\n"
          ]
        }
      ]
    },
    {
      "cell_type": "code",
      "source": [
        "import mysql.connector"
      ],
      "metadata": {
        "id": "5oTbBkeyfzAT"
      },
      "execution_count": 195,
      "outputs": []
    },
    {
      "cell_type": "code",
      "source": [
        "# Convert datetime columns to string format\n",
        "df['stop_date'] = pd.to_datetime(df['stop_date'], errors='coerce').dt.strftime('%Y-%m-%d')\n",
        "df['stop_time'] = pd.to_datetime(df['stop_time'], errors='coerce').dt.strftime('%H:%M:%S')"
      ],
      "metadata": {
        "id": "Kc4J-XZxnqE9"
      },
      "execution_count": 196,
      "outputs": []
    },
    {
      "cell_type": "code",
      "source": [
        "cursor.execute(\"PRAGMA table_info(traffic_stops);\")\n",
        "for col in cursor.fetchall():\n",
        "    print(col)\n"
      ],
      "metadata": {
        "colab": {
          "base_uri": "https://localhost:8080/"
        },
        "id": "QlG1GDoP8sZZ",
        "outputId": "eb5d9e9f-99b1-448f-f8dd-282425952ef1"
      },
      "execution_count": 197,
      "outputs": [
        {
          "output_type": "stream",
          "name": "stdout",
          "text": [
            "(0, 'id', 'INTEGER', 0, None, 1)\n",
            "(1, 'stop_date', 'DATE', 0, None, 0)\n",
            "(2, 'stop_time', 'TIME', 0, None, 0)\n",
            "(3, 'country_name', 'TEXT', 0, None, 0)\n",
            "(4, 'driver_gender', 'TEXT', 0, None, 0)\n",
            "(5, 'driver_age', 'INTEGER', 0, None, 0)\n",
            "(6, 'driver_age_raw', 'INTEGER', 0, None, 0)\n",
            "(7, 'driver_race', 'TEXT', 0, None, 0)\n",
            "(8, 'violation_raw', 'TEXT', 0, None, 0)\n",
            "(9, 'violation', 'TEXT', 0, None, 0)\n",
            "(10, 'search_conducted', 'INTEGER', 0, None, 0)\n",
            "(11, 'stop_outcome', 'TEXT', 0, None, 0)\n",
            "(12, 'is_arrested', 'INTEGER', 0, None, 0)\n",
            "(13, 'stop_duration', 'TEXT', 0, None, 0)\n",
            "(14, 'drugs_related_stop', 'INTEGER', 0, None, 0)\n",
            "(15, 'vehicle_number', 'TEXT', 0, None, 0)\n",
            "(16, 'search_type', 'TEXT', 0, None, 0)\n"
          ]
        }
      ]
    },
    {
      "cell_type": "code",
      "source": [
        "data_list = df.values.tolist()"
      ],
      "metadata": {
        "id": "yONGixm4BrA7"
      },
      "execution_count": 326,
      "outputs": []
    },
    {
      "cell_type": "code",
      "source": [
        "\n",
        "query = \"\"\"\n",
        "INSERT INTO traffic_stops (\n",
        "    stop_date, stop_time, country_name, driver_gender,\n",
        "    driver_age, driver_age_raw, driver_race, violation_raw, violation,\n",
        "    search_conducted, stop_outcome, is_arrested, stop_duration,\n",
        "    drugs_related_stop, vehicle_number, search_type\n",
        ") VALUES (?, ?, ?, ?, ?, ?, ?, ?, ?, ?, ?, ?, ?, ?, ?, ?)\n",
        "\"\"\"\n"
      ],
      "metadata": {
        "id": "EnpWhKDY9CDA"
      },
      "execution_count": 200,
      "outputs": []
    },
    {
      "cell_type": "code",
      "source": [
        "cursor.executemany(query, data_list)\n",
        "conn.commit()\n",
        "print(f\"✅ {cursor.rowcount} records inserted into 'traffic_stops'\")"
      ],
      "metadata": {
        "colab": {
          "base_uri": "https://localhost:8080/"
        },
        "id": "F6j1FQt09gnv",
        "outputId": "5ed26a48-b0cc-496a-eada-77ba898097af"
      },
      "execution_count": 201,
      "outputs": [
        {
          "output_type": "stream",
          "name": "stdout",
          "text": [
            "✅ 65538 records inserted into 'traffic_stops'\n"
          ]
        }
      ]
    },
    {
      "cell_type": "code",
      "source": [
        "import pandas as pd\n",
        "\n",
        "df = pd.read_csv(\"traffic_stops - traffic_stops_with_vehicle_number.csv\")  # Replace with your actual file\n",
        "conn = sqlite3.connect(\"Police_db.sqlite\")\n",
        "df.to_sql(\"traffic_stops\", conn, if_exists=\"append\", index=False)\n",
        "conn.close()\n",
        "\n",
        "print(\"✅ Data loaded into 'traffic_stops'!\")\n"
      ],
      "metadata": {
        "colab": {
          "base_uri": "https://localhost:8080/"
        },
        "id": "5rVZKaYgYrp9",
        "outputId": "b79d1e01-0df6-4237-b855-8e24faa62279"
      },
      "execution_count": 286,
      "outputs": [
        {
          "output_type": "stream",
          "name": "stderr",
          "text": [
            "/tmp/ipython-input-286-1736187319.py:3: DtypeWarning: Columns (10) have mixed types. Specify dtype option on import or set low_memory=False.\n",
            "  df = pd.read_csv(\"traffic_stops - traffic_stops_with_vehicle_number.csv\")  # Replace with your actual file\n"
          ]
        },
        {
          "output_type": "stream",
          "name": "stdout",
          "text": [
            "✅ Data loaded into 'traffic_stops'!\n"
          ]
        }
      ]
    },
    {
      "cell_type": "code",
      "source": [
        "import sqlite3\n",
        "import pandas as pd\n",
        "\n",
        "def fetch_data(query):\n",
        "    conn = sqlite3.connect(\"Police_db.db\")  # Replace with your actual DB path\n",
        "    df = pd.read_sql_query(query, conn)\n",
        "    conn.close()\n",
        "    return df\n"
      ],
      "metadata": {
        "id": "qyPuilFj2QB0"
      },
      "execution_count": 287,
      "outputs": []
    },
    {
      "cell_type": "code",
      "source": [
        "%%writefile app.py\n",
        "import streamlit as st\n",
        "import sqlite3\n",
        "import pandas as pd\n",
        "import matplotlib.pyplot as plt\n",
        "import seaborn as sns\n",
        "\n",
        "# ✅ MUST BE FIRST Streamlit command\n",
        "st.set_page_config(page_title=\"Police Data Analysis\", layout=\"wide\")\n",
        "\n",
        "# App title\n",
        "st.title(\"🚔 SecureCheck - Police Post Logs Dashboard\")\n",
        "\n",
        "# Function to connect to SQLite database\n",
        "def get_data(query, params=None):\n",
        "    conn = sqlite3.connect(\"Police_db.sqlite\")\n",
        "    if params:\n",
        "        df = pd.read_sql_query(query, conn, params=params)\n",
        "    else:\n",
        "        df = pd.read_sql_query(query, conn)\n",
        "    conn.close()\n",
        "    return df\n",
        "\n",
        "# Sidebar for navigation\n",
        "st.sidebar.title(\"Navigation\")\n",
        "page = st.sidebar.radio(\"Go to\", [\n",
        "    \"Vehicle-Based Queries\",\n",
        "    \"Demographic-Based Queries\",\n",
        "    \"Violation-Based Queries\",\n",
        "    \"Time & Duration-Based Queries\",\n",
        "    \"Location-Based Queries\",\n",
        "    \"Complex Insights\",\n",
        "    \"New Police Log Prediction\"\n",
        "])\n",
        "\n",
        "# 🚗 Vehicle-Based Queries\n",
        "if page == \"Vehicle-Based Queries\":\n",
        "    st.header(\"🚗 Vehicle-Based Insights\")\n",
        "    vehicle_queries = {\"1.Top 10 Vehicles in Drug-Related Stops\": \"SELECT vehicle_number, COUNT(*) AS drug_stop_count FROM traffic_stops WHERE drugs_related_stop = 1 AND vehicle_number IS NOT NULL GROUP BY vehicle_number ORDER BY drug_stop_count DESC LIMIT 10\",\n",
        "                       \"2.Most Frequently Searched Vehicles\": \"SELECT vehicle_number, COUNT(*) AS search_count FROM traffic_stops WHERE search_conducted = 1 AND vehicle_number IS NOT NULL GROUP BY vehicle_number ORDER BY search_count DESC LIMIT 10\"\n",
        "    }\n",
        "    selected = st.selectbox(\"Choose a vehicle query\", list(vehicle_queries.keys()))\n",
        "    df = get_data(vehicle_queries[selected])\n",
        "    st.dataframe(df)\n",
        "\n",
        "# 🧍 Demographic-Based Queries\n",
        "elif page == \"Demographic-Based Queries\":\n",
        "    st.header(\"🧍 Demographic-Based Insights\")\n",
        "    demo_queries = {\"1.Driver Age Group with Highest Arrest Rate\":\"SELECT CASE WHEN driver_age BETWEEN 16 AND 25 THEN '16-25' WHEN driver_age BETWEEN 26 AND 35 THEN '26-35' WHEN driver_age BETWEEN 36 AND 50 THEN '36-50' ELSE '51+' END AS age_group, COUNT(*) AS total_stops,SUM(is_arrested) AS total_arrests,ROUND(100.0 * SUM(is_arrested) / COUNT(*), 2) AS arrest_rate FROM traffic_stops WHERE driver_age IS NOT NULL GROUP BY age_group ORDER BY arrest_rate DESC\",\n",
        "                    \"2.Gender Distribution by Country\":\"SELECT country_name, driver_gender, COUNT(*) AS stop_count FROM traffic_stops WHERE driver_gender IS NOT NULL GROUP BY country_name, driver_gender ORDER BY country_name\",\n",
        "                    \"3.Race & Gender Combo with Highest Search Rate\":\"SELECT driver_race, driver_gender, COUNT(*) AS total_stops, SUM(search_conducted) AS searches,ROUND(100.0 * SUM(search_conducted) / COUNT(*), 2) AS search_rate FROM traffic_stops WHERE driver_race IS NOT NULL AND driver_gender IS NOT NULL GROUP BY driver_race, driver_gender ORDER BY search_rate DESC LIMIT 1\"\n",
        "    }\n",
        "    selected = st.selectbox(\"Choose a demographic query\", list(demo_queries.keys()))\n",
        "    df = get_data(demo_queries[selected])\n",
        "    st.dataframe(df)\n",
        "\n",
        "#Time & Duration-Based Queries\n",
        "elif page == \"Time & Duration-Based Queries\":\n",
        "    st.header(\"🕒 Time & Duration-Based Insights\")\n",
        "\n",
        "    time_queries = {\"1.Most Common Stop Hours\": \"SELECT strftime('%H', stop_time) AS hour_of_day, COUNT(*) AS stop_count FROM traffic_stops WHERE stop_time IS NOT NULL GROUP BY hour_of_day ORDER BY stop_count DESC LIMIT 5\",\n",
        "                    \"2.Average Stop Duration by Violation\": \"SELECT violation,ROUND(AVG(CASE stop_duration WHEN '0-15 Min' THEN 7.5 WHEN '16-30 Min' THEN 23 WHEN '30+ Min' THEN 45 END), 2) AS avg_duration_minutes FROM traffic_stops WHERE stop_duration IS NOT NULL GROUP BY violation ORDER BY avg_duration_minutes DESC\",\n",
        "                    \"3.Arrest Rate: Day vs Night\": \"SELECT CASE WHEN CAST(strftime('%H', stop_time) AS INTEGER) BETWEEN 6 AND 17 THEN 'Day' ELSE 'Night' END AS time_period,COUNT(*) AS total_stops,SUM(is_arrested) AS total_arrests, ROUND(100.0 * SUM(is_arrested) / COUNT(*), 2) AS arrest_rate FROM traffic_stops WHERE stop_time IS NOT NULL GROUP BY time_period\"\n",
        "    }\n",
        "\n",
        "    selected_query = st.selectbox(\"Choose a Time-Based Query\", list(time_queries.keys()))\n",
        "    df = get_data(time_queries[selected_query])\n",
        "    st.dataframe(df)\n",
        "\n",
        "    if not df.empty and \"rate\" in df.columns[-1].lower():\n",
        "        st.bar_chart(df.set_index(df.columns[0])[df.columns[-1]])\n",
        "\n",
        "# ⚖️ Violation-Based Queries\n",
        "elif page == \"Violation-Based Queries\":\n",
        "    st.header(\"⚖️ Violation-Based Insights\")\n",
        "    violation_queries = {\"1.Most Common Violations\":\"SELECT violation, COUNT(*) AS count FROM traffic_stops WHERE violation IS NOT NULL GROUP BY violation ORDER BY count DESC\",\n",
        "                         \"2.Violations with Highest Arrest Rate\":\"SELECT violation, COUNT(*) AS total_stops,SUM(is_arrested) AS total_arrests,ROUND(100.0 * SUM(is_arrested) / COUNT(*), 2) AS arrest_rate FROM traffic_stops WHERE violation IS NOT NULL GROUP BY violation ORDER BY arrest_rate DESC LIMIT 10\",\n",
        "                         \"3.Violations Rarely Resulting in Arrests\":\"SELECT violation,COUNT(*) AS total_stops,SUM(is_arrested) AS total_arrests,ROUND(100.0 * SUM(is_arrested) / COUNT(*), 2) AS arrest_rate FROM traffic_stops WHERE violation IS NOT NULL GROUP BY violation HAVING COUNT(*) > 10 ORDER BY arrest_rate ASC LIMIT 10\"\n",
        "    }\n",
        "    selected = st.selectbox(\"Choose a violation query\", list(violation_queries.keys()))\n",
        "    df = get_data(violation_queries[selected])\n",
        "    st.dataframe(df)\n",
        "\n",
        "#🌍 Location-Based Queries\n",
        "elif page == \"Location-Based Queries\":\n",
        "    st.header(\"🌍 Location-Based Insights\")\n",
        "\n",
        "    location_queries = {\"1.Countries with Highest Rate of Drug-Related Stops\": \"SELECT country_name,COUNT(*) AS total_stops,SUM(drugs_related_stop) AS drug_related_stops,ROUND(100.0 * SUM(drugs_related_stop) / COUNT(*), 2) AS drug_stop_rate_pct FROM traffic_stops GROUP BY country_name ORDER BY drug_stop_rate_pct DESC LIMIT 5\",\n",
        "                        \"2.Arrest Rate by Country and Violation\": \"SELECT country_name,violation,COUNT(*) AS total_stops,SUM(is_arrested) AS arrests,ROUND(100.0 * SUM(is_arrested) / COUNT(*), 2) AS arrest_rate_pct FROM traffic_stops WHERE country_name IS NOT NULL AND violation IS NOT NULL GROUP BY country_name, violation ORDER BY arrest_rate_pct DESC\",\n",
        "                        \"3.Country with Most Searches\": \"SELECT country_name,COUNT(*) AS total_stops,SUM(search_conducted) AS searches,ROUND(100.0 * SUM(search_conducted) / COUNT(*), 2) AS search_rate_pct FROM traffic_stops GROUP BY country_name ORDER BY searches DESC LIMIT 1\"\n",
        "    }\n",
        "\n",
        "    selected_query = st.selectbox(\"Choose a Location-Based Query\", list(location_queries.keys()))\n",
        "    df = get_data(location_queries[selected_query])\n",
        "    st.dataframe(df)\n",
        "\n",
        "# Complex Insights\n",
        "elif page == \"Complex Insights\":\n",
        "    st.header(\"🧠 Complex Analytical Insights\")\n",
        "\n",
        "    complex_queries = {\"1.Yearly Breakdown of Stops and Arrests by Country\": \"SELECT country_name,strftime('%Y', stop_date) AS year,COUNT(*) AS total_stops,SUM(is_arrested) AS total_arrests,ROUND(100.0 * SUM(is_arrested) / COUNT(*), 2) AS arrest_rate_pct FROM traffic_stops WHERE stop_date IS NOT NULL GROUP BY country_name, year ORDER BY country_name, year\",\n",
        "                       \"2.Driver Violation Trends by Age & Race\": \"SELECT driver_race,CASE WHEN driver_age < 18 THEN 'Under 18' WHEN driver_age BETWEEN 18 AND 25 THEN '18-25' WHEN driver_age BETWEEN 26 AND 40 THEN '26-40' WHEN driver_age BETWEEN 41 AND 60 THEN '41-60' ELSE '60+' END AS age_group,violation,COUNT(*) AS violation_count FROM traffic_stops WHERE driver_race IS NOT NULL AND driver_age IS NOT NULL AND violation IS NOT NULL GROUP BY driver_race, age_group, violation ORDER BY violation_count DESC\",\n",
        "                       \"3.Stops by Year, Month, and Hour\": \"SELECT strftime('%Y', stop_date) AS year,strftime('%m', stop_date) AS month,strftime('%H', stop_time) AS hour, COUNT(*) AS stop_count FROM traffic_stops WHERE stop_date IS NOT NULL AND stop_time IS NOT NULL GROUP BY year, month, hour ORDER BY year, month, hour\",\n",
        "                       \"4.Violations with High Search & Arrest Rates\": \"SELECT violation,COUNT(*) AS total_stops,SUM(search_conducted) AS searches,SUM(is_arrested) AS arrests,ROUND(100.0 * SUM(search_conducted) / COUNT(*), 2) AS search_rate_pct,ROUND(100.0 * SUM(is_arrested) / COUNT(*), 2) AS arrest_rate_pct FROM traffic_stops WHERE violation IS NOT NULL GROUP BY violation ORDER BY search_rate_pct DESC, arrest_rate_pct DESC\",\n",
        "                       \"5.Driver Demographics by Country\": \"SELECT country_name,ROUND(AVG(driver_age), 1) AS avg_age,COUNT(DISTINCT driver_gender) AS gender_diversity, COUNT(DISTINCT driver_race) AS race_diversity FROM traffic_stops WHERE country_name IS NOT NULL AND driver_age IS NOT NULL GROUP BY country_name ORDER BY avg_age DESC\",\n",
        "                       \"6.Top 5 Violations with Highest Arrest Rates\": \"SELECT violation,COUNT(*) AS total_stops,SUM(is_arrested) AS arrests,ROUND(100.0 * SUM(is_arrested) / COUNT(*), 2) AS arrest_rate_pct FROM traffic_stops WHERE violation IS NOT NULL GROUP BY violation HAVING COUNT(*) > 10 ORDER BY arrest_rate_pct DESC LIMIT 5\"\n",
        "    }\n",
        "\n",
        "    selected_query = st.selectbox(\"Choose a Complex Insight\", list(complex_queries.keys()))\n",
        "    df = get_data(complex_queries[selected_query])\n",
        "    st.dataframe(df)\n",
        "# 🔮 Placeholder for predictions\n",
        "\n",
        "elif page == \"New Police Log Prediction\":\n",
        "    st.header(\"📝 Add New Police Log & Generate Summary\")\n",
        "\n",
        "    with st.form(\"police_log_form\"):\n",
        "        col1, col2 = st.columns(2)\n",
        "\n",
        "        with col1:\n",
        "            stop_date = st.date_input(\"Stop Date\")\n",
        "            stop_time = st.time_input(\"Stop Time\")\n",
        "            driver_age = st.number_input(\"Driver Age\", min_value=16, max_value=100, value=27)\n",
        "            driver_gender = st.selectbox(\"Driver Gender\", [\"male\", \"female\"])\n",
        "            stop_duration = st.selectbox(\"Stop Duration\", [\"0-15 Min\", \"16-30 Min\", \"30+ Min\"])\n",
        "\n",
        "        with col2:\n",
        "            violation = st.selectbox(\"Violation\", [\"Speeding\", \"Running a red light\", \"DUI\", \"Seatbelt violation\", \"Expired registration\", \"Other\"])\n",
        "            search_conducted = st.selectbox(\"Search Conducted?\", [\"No\", \"Yes\"])\n",
        "            drugs_related_stop = st.selectbox(\"Drug Related?\", [\"No\", \"Yes\"])\n",
        "            outcome = st.selectbox(\"Stop Outcome\", [\"Citation\", \"Warning\", \"Arrested\", \"No Action\"])\n",
        "\n",
        "        submitted = st.form_submit_button(\"🚨 Generate Summary\")\n",
        "\n",
        "        if submitted:\n",
        "            age_text = f\"{int(driver_age)}-year-old\"\n",
        "            time_str = stop_time.strftime(\"%I:%M %p\").lstrip(\"0\").replace(\" 0\", \" \")\n",
        "            search_text = \"A search was conducted\" if search_conducted == \"Yes\" else \"No search was conducted\"\n",
        "            drug_text = \"It was drug-related\" if drugs_related_stop == \"Yes\" else \"It was not drug-related\"\n",
        "\n",
        "            summary = (\n",
        "                f\"🚗 A {age_text} {driver_gender.lower()} driver was stopped for {violation} at {time_str}. \"\n",
        "                f\"{search_text}, and they received a {outcome.lower()}. \"\n",
        "                f\"The stop lasted {stop_duration.lower()} and {drug_text.lower()}.\"\n",
        "            )\n",
        "\n",
        "            st.success(\"✅ Generated Summary\")\n",
        "            st.write(summary)"
      ],
      "metadata": {
        "colab": {
          "base_uri": "https://localhost:8080/"
        },
        "id": "ltgXoT8Rcol7",
        "outputId": "d09911b2-5f5e-4604-d462-8462aa38c0f7"
      },
      "execution_count": 355,
      "outputs": [
        {
          "output_type": "stream",
          "name": "stdout",
          "text": [
            "Overwriting app.py\n"
          ]
        }
      ]
    },
    {
      "cell_type": "code",
      "source": [
        "import sqlite3\n",
        "\n",
        "conn = sqlite3.connect(\"Police_db.sqlite\")\n",
        "cursor = conn.cursor()\n",
        "\n",
        "cursor.execute(\"SELECT name FROM sqlite_master WHERE type='table';\")\n",
        "tables = cursor.fetchall()\n",
        "print(\"📋 Tables in database:\", tables)\n",
        "conn.close()\n"
      ],
      "metadata": {
        "colab": {
          "base_uri": "https://localhost:8080/"
        },
        "id": "cIlvxo3NYJeT",
        "outputId": "102f81ca-e8dd-4b3a-9d01-d6221fa40ae7"
      },
      "execution_count": 356,
      "outputs": [
        {
          "output_type": "stream",
          "name": "stdout",
          "text": [
            "📋 Tables in database: [('traffic_stops',)]\n"
          ]
        }
      ]
    },
    {
      "cell_type": "code",
      "source": [
        "import sqlite3\n",
        "import pandas as pd\n",
        "\n",
        "def get_data(query, params=None):\n",
        "    conn = sqlite3.connect(\"Police_db.db\")  # Make sure this matches your DB file\n",
        "    if params:\n",
        "        df = pd.read_sql_query(query, conn, params=params)\n",
        "    else:\n",
        "        df = pd.read_sql_query(query, conn)\n",
        "    conn.close()\n",
        "    return df\n"
      ],
      "metadata": {
        "id": "lmRXZr-nFcFa"
      },
      "execution_count": 357,
      "outputs": []
    },
    {
      "cell_type": "code",
      "source": [
        "import streamlit as st"
      ],
      "metadata": {
        "id": "_8Tw-sDHidyZ"
      },
      "execution_count": 358,
      "outputs": []
    },
    {
      "cell_type": "code",
      "source": [
        "st.set_page_config(page_title=\"Police Data Analysis\", layout=\"wide\")"
      ],
      "metadata": {
        "colab": {
          "base_uri": "https://localhost:8080/"
        },
        "id": "CaL-7JVkiNmx",
        "outputId": "63739df3-544d-42dd-fcf0-264a2c1958a2"
      },
      "execution_count": 359,
      "outputs": [
        {
          "output_type": "stream",
          "name": "stderr",
          "text": [
            "2025-07-09 15:39:24.192 Thread 'MainThread': missing ScriptRunContext! This warning can be ignored when running in bare mode.\n"
          ]
        }
      ]
    },
    {
      "cell_type": "code",
      "source": [
        "!npm install localtunnel"
      ],
      "metadata": {
        "colab": {
          "base_uri": "https://localhost:8080/"
        },
        "id": "-nlm0wLuzGQj",
        "outputId": "d6191f98-4442-4c71-c40b-6eb533107e41"
      },
      "execution_count": 360,
      "outputs": [
        {
          "output_type": "stream",
          "name": "stdout",
          "text": [
            "\u001b[1G\u001b[0K⠙\u001b[1G\u001b[0K⠹\u001b[1G\u001b[0K⠸\u001b[1G\u001b[0K⠼\u001b[1G\u001b[0K⠴\u001b[1G\u001b[0K\n",
            "up to date, audited 23 packages in 772ms\n",
            "\u001b[1G\u001b[0K⠴\u001b[1G\u001b[0K\n",
            "\u001b[1G\u001b[0K⠴\u001b[1G\u001b[0K3 packages are looking for funding\n",
            "\u001b[1G\u001b[0K⠴\u001b[1G\u001b[0K  run `npm fund` for details\n",
            "\u001b[1G\u001b[0K⠴\u001b[1G\u001b[0K\n",
            "2 \u001b[31m\u001b[1mhigh\u001b[22m\u001b[39m severity vulnerabilities\n",
            "\n",
            "To address all issues (including breaking changes), run:\n",
            "  npm audit fix --force\n",
            "\n",
            "Run `npm audit` for details.\n",
            "\u001b[1G\u001b[0K⠴\u001b[1G\u001b[0K"
          ]
        }
      ]
    },
    {
      "cell_type": "markdown",
      "source": [],
      "metadata": {
        "id": "PN66tkMdi3P9"
      }
    },
    {
      "cell_type": "code",
      "source": [
        "!streamlit run /content/app.py &>/content/logs.txt & npx localtunnel --port 8501 & curl ipv4.icanhazip.com"
      ],
      "metadata": {
        "colab": {
          "base_uri": "https://localhost:8080/"
        },
        "id": "gxrU2TRcf5CN",
        "outputId": "f0226a0d-5090-4bde-d4dd-4e2ba8fc5e09"
      },
      "execution_count": 361,
      "outputs": [
        {
          "output_type": "stream",
          "name": "stdout",
          "text": [
            "34.127.100.31\n",
            "\u001b[1G\u001b[0K⠙\u001b[1G\u001b[0K⠹\u001b[1G\u001b[0Kyour url is: https://five-chicken-drop.loca.lt\n"
          ]
        }
      ]
    },
    {
      "cell_type": "code",
      "source": [],
      "metadata": {
        "id": "d5EYQFxmfOfB"
      },
      "execution_count": null,
      "outputs": []
    }
  ]
}